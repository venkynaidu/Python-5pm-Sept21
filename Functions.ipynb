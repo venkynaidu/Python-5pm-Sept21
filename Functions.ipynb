{
 "cells": [
  {
   "cell_type": "code",
   "execution_count": 2,
   "id": "bfd2983a",
   "metadata": {},
   "outputs": [],
   "source": [
    "def wish():\n",
    "    print(\"Hello Good Evening all\")"
   ]
  },
  {
   "cell_type": "code",
   "execution_count": null,
   "id": "64972cb9",
   "metadata": {},
   "outputs": [],
   "source": []
  },
  {
   "cell_type": "code",
   "execution_count": 3,
   "id": "40262d66",
   "metadata": {},
   "outputs": [
    {
     "name": "stdout",
     "output_type": "stream",
     "text": [
      "Hello Good Evening all\n"
     ]
    }
   ],
   "source": [
    "wish()"
   ]
  },
  {
   "cell_type": "code",
   "execution_count": 8,
   "id": "60d0d610",
   "metadata": {},
   "outputs": [
    {
     "name": "stdout",
     "output_type": "stream",
     "text": [
      "Hello Good Evening all\n",
      "Hello Surya How are you?\n"
     ]
    }
   ],
   "source": [
    "def wish():\n",
    "    print(\"Hello Good Evening all\")\n",
    "    print(\"Hello Surya How are you?\")\n",
    "wish()"
   ]
  },
  {
   "cell_type": "code",
   "execution_count": 9,
   "id": "58ec3a0e",
   "metadata": {},
   "outputs": [
    {
     "name": "stdout",
     "output_type": "stream",
     "text": [
      "Hello Good Evening all\n",
      "Hello Surya How are you?\n"
     ]
    }
   ],
   "source": [
    "wish()"
   ]
  },
  {
   "cell_type": "code",
   "execution_count": 10,
   "id": "78ead13e",
   "metadata": {},
   "outputs": [
    {
     "name": "stdout",
     "output_type": "stream",
     "text": [
      "Hello Good Evening all\n",
      "Hello Surya How are you?\n"
     ]
    }
   ],
   "source": [
    "wish()"
   ]
  },
  {
   "cell_type": "code",
   "execution_count": 11,
   "id": "482360d6",
   "metadata": {},
   "outputs": [],
   "source": [
    "#function with parameter\n",
    "def wish(name):\n",
    "    print(\"Hello\",name,\"Good Evening\")\n"
   ]
  },
  {
   "cell_type": "code",
   "execution_count": 13,
   "id": "a908f0dd",
   "metadata": {},
   "outputs": [
    {
     "name": "stdout",
     "output_type": "stream",
     "text": [
      "Hello Surya Good Evening\n"
     ]
    }
   ],
   "source": [
    "wish(\"Surya\")"
   ]
  },
  {
   "cell_type": "code",
   "execution_count": 14,
   "id": "a3f979bc",
   "metadata": {},
   "outputs": [
    {
     "name": "stdout",
     "output_type": "stream",
     "text": [
      "Hello Sunny Good Evening\n"
     ]
    }
   ],
   "source": [
    "wish(\"Sunny\")"
   ]
  },
  {
   "cell_type": "code",
   "execution_count": 15,
   "id": "845ebfd4",
   "metadata": {},
   "outputs": [],
   "source": [
    "#function with parameter\n",
    "def wish(name=\"Guest\"):\n",
    "    print(\"Hello\",name,\"Good Evening\")\n"
   ]
  },
  {
   "cell_type": "code",
   "execution_count": 16,
   "id": "2fae96c9",
   "metadata": {},
   "outputs": [
    {
     "name": "stdout",
     "output_type": "stream",
     "text": [
      "Hello Guest Good Evening\n"
     ]
    }
   ],
   "source": [
    "wish()"
   ]
  },
  {
   "cell_type": "code",
   "execution_count": 18,
   "id": "a9e91547",
   "metadata": {},
   "outputs": [
    {
     "name": "stdout",
     "output_type": "stream",
     "text": [
      "Hello Shriya Good Evening\n"
     ]
    }
   ],
   "source": [
    "wish(\"Shriya\")"
   ]
  },
  {
   "cell_type": "code",
   "execution_count": 19,
   "id": "0e4a6c86",
   "metadata": {},
   "outputs": [
    {
     "name": "stdout",
     "output_type": "stream",
     "text": [
      "Hello 10 Good Evening\n"
     ]
    }
   ],
   "source": [
    "wish(10)"
   ]
  },
  {
   "cell_type": "code",
   "execution_count": 20,
   "id": "3d489fbc",
   "metadata": {},
   "outputs": [
    {
     "name": "stdout",
     "output_type": "stream",
     "text": [
      "Hello [10, 20, 30] Good Evening\n"
     ]
    }
   ],
   "source": [
    "wish([10,20,30])"
   ]
  },
  {
   "cell_type": "code",
   "execution_count": 21,
   "id": "b411788c",
   "metadata": {},
   "outputs": [],
   "source": [
    "#function with return statement\n",
    "def add(x,y):\n",
    "    z=x+y\n",
    "    return z\n"
   ]
  },
  {
   "cell_type": "code",
   "execution_count": 22,
   "id": "c9e77970",
   "metadata": {},
   "outputs": [
    {
     "name": "stdout",
     "output_type": "stream",
     "text": [
      "30\n"
     ]
    }
   ],
   "source": [
    "p=add(10,20)\n",
    "print(p)"
   ]
  },
  {
   "cell_type": "code",
   "execution_count": 23,
   "id": "7272a81e",
   "metadata": {},
   "outputs": [
    {
     "name": "stdout",
     "output_type": "stream",
     "text": [
      "Sum of 10,20 is: 30\n"
     ]
    }
   ],
   "source": [
    "print(\"Sum of 10,20 is:\",add(10,20))"
   ]
  },
  {
   "cell_type": "code",
   "execution_count": 24,
   "id": "61fac133",
   "metadata": {},
   "outputs": [
    {
     "name": "stdout",
     "output_type": "stream",
     "text": [
      "HelloSunny\n"
     ]
    }
   ],
   "source": [
    "print(add(\"Hello\",\"Sunny\"))"
   ]
  },
  {
   "cell_type": "code",
   "execution_count": 25,
   "id": "80e041b5",
   "metadata": {},
   "outputs": [],
   "source": [
    "#write a program to check the given number is even or odd using functions\n",
    "def evenodd(number):\n",
    "    if number%2==0:\n",
    "        print(\"Even number\")\n",
    "    else:\n",
    "        print(\"Odd number\")\n",
    "\n"
   ]
  },
  {
   "cell_type": "code",
   "execution_count": 26,
   "id": "863b8f5f",
   "metadata": {},
   "outputs": [
    {
     "name": "stdout",
     "output_type": "stream",
     "text": [
      "Even number\n"
     ]
    }
   ],
   "source": [
    "evenodd(4)"
   ]
  },
  {
   "cell_type": "code",
   "execution_count": 27,
   "id": "5a564f3d",
   "metadata": {},
   "outputs": [
    {
     "name": "stdout",
     "output_type": "stream",
     "text": [
      "Odd number\n"
     ]
    }
   ],
   "source": [
    "evenodd(9)"
   ]
  },
  {
   "cell_type": "code",
   "execution_count": null,
   "id": "8cf9a02e",
   "metadata": {},
   "outputs": [],
   "source": [
    "Assignments:\n",
    "    1. Program to check the given person age is eligible to vote( age: 18)\n",
    "    2. program to check the given character is uppercase or lowecase."
   ]
  },
  {
   "cell_type": "markdown",
   "id": "7158d874",
   "metadata": {},
   "source": [
    "### Return multiple values from function:"
   ]
  },
  {
   "cell_type": "code",
   "execution_count": 28,
   "id": "5006c39f",
   "metadata": {},
   "outputs": [],
   "source": [
    "#program to return multiple values from function\n",
    "def calc(x,y):\n",
    "    add=x+y\n",
    "    sub=x-y\n",
    "    mul=x*y\n",
    "    return add,sub,mul\n",
    "\n"
   ]
  },
  {
   "cell_type": "code",
   "execution_count": 29,
   "id": "c6e6d415",
   "metadata": {},
   "outputs": [
    {
     "name": "stdout",
     "output_type": "stream",
     "text": [
      "add is: 7 Sub is: 3 Mul is: 10\n"
     ]
    }
   ],
   "source": [
    "a,s,m=calc(5,2)\n",
    "print(\"add is:\",a,\"Sub is:\",s,\"Mul is:\",m)"
   ]
  },
  {
   "cell_type": "markdown",
   "id": "2c4d04a3",
   "metadata": {},
   "source": [
    "### Types of arguments"
   ]
  },
  {
   "cell_type": "markdown",
   "id": "4b2d884a",
   "metadata": {},
   "source": [
    "#### 1. positional arguements"
   ]
  },
  {
   "cell_type": "code",
   "execution_count": 30,
   "id": "9e257ae3",
   "metadata": {},
   "outputs": [],
   "source": [
    "#example for positional arguments\n",
    "def sub(a,b):\n",
    "    c=a-b\n",
    "    print(c)\n",
    "    "
   ]
  },
  {
   "cell_type": "code",
   "execution_count": 31,
   "id": "c5c1bbd0",
   "metadata": {},
   "outputs": [
    {
     "name": "stdout",
     "output_type": "stream",
     "text": [
      "3\n"
     ]
    }
   ],
   "source": [
    "sub(5,2)"
   ]
  },
  {
   "cell_type": "code",
   "execution_count": 32,
   "id": "96c68ae2",
   "metadata": {},
   "outputs": [
    {
     "name": "stdout",
     "output_type": "stream",
     "text": [
      "-3\n"
     ]
    }
   ],
   "source": [
    "sub(2,5)"
   ]
  },
  {
   "cell_type": "markdown",
   "id": "5d7878fc",
   "metadata": {},
   "source": [
    "### Keyword Arguments"
   ]
  },
  {
   "cell_type": "code",
   "execution_count": 33,
   "id": "d034da9d",
   "metadata": {},
   "outputs": [],
   "source": [
    "#program for keyword arguments\n",
    "def wish(name,msge):\n",
    "    print(\"Hello\",name,msge)\n",
    "    "
   ]
  },
  {
   "cell_type": "code",
   "execution_count": 34,
   "id": "8463b429",
   "metadata": {},
   "outputs": [
    {
     "name": "stdout",
     "output_type": "stream",
     "text": [
      "Hello Venky Good Evening\n"
     ]
    }
   ],
   "source": [
    "wish(name=\"Venky\",msge=\"Good Evening\")"
   ]
  },
  {
   "cell_type": "code",
   "execution_count": 35,
   "id": "6b64ef1c",
   "metadata": {},
   "outputs": [
    {
     "name": "stdout",
     "output_type": "stream",
     "text": [
      "Hello Venky Good Evening\n"
     ]
    }
   ],
   "source": [
    "wish(msge=\"Good Evening\",name=\"Venky\")"
   ]
  },
  {
   "cell_type": "code",
   "execution_count": 36,
   "id": "5f5b9d9d",
   "metadata": {},
   "outputs": [],
   "source": [
    "#combining positional with keyword arguments\n",
    "def wish(name,msge):\n",
    "    print(\"Hello\",name,msge)"
   ]
  },
  {
   "cell_type": "code",
   "execution_count": 37,
   "id": "d33cd315",
   "metadata": {},
   "outputs": [
    {
     "ename": "SyntaxError",
     "evalue": "positional argument follows keyword argument (<ipython-input-37-495071df80d2>, line 1)",
     "output_type": "error",
     "traceback": [
      "\u001b[1;36m  File \u001b[1;32m\"<ipython-input-37-495071df80d2>\"\u001b[1;36m, line \u001b[1;32m1\u001b[0m\n\u001b[1;33m    wish(name=\"Venky\",\"Good Evening\")\u001b[0m\n\u001b[1;37m                      ^\u001b[0m\n\u001b[1;31mSyntaxError\u001b[0m\u001b[1;31m:\u001b[0m positional argument follows keyword argument\n"
     ]
    }
   ],
   "source": [
    "wish(name=\"Venky\",\"Good Evening\")"
   ]
  },
  {
   "cell_type": "code",
   "execution_count": 38,
   "id": "e1a12063",
   "metadata": {},
   "outputs": [
    {
     "name": "stdout",
     "output_type": "stream",
     "text": [
      "Hello Venky Good Evening\n"
     ]
    }
   ],
   "source": [
    "wish(\"Venky\",msge=\"Good Evening\")"
   ]
  },
  {
   "cell_type": "markdown",
   "id": "f094d9d1",
   "metadata": {},
   "source": [
    "### variable length of arguments"
   ]
  },
  {
   "cell_type": "code",
   "execution_count": 39,
   "id": "6ca4ede9",
   "metadata": {},
   "outputs": [],
   "source": [
    "#example program\n",
    "def sum(a,b):\n",
    "    c=a+b\n",
    "    print(\"Sum is:\",c)"
   ]
  },
  {
   "cell_type": "code",
   "execution_count": 40,
   "id": "dd07b49f",
   "metadata": {},
   "outputs": [
    {
     "name": "stdout",
     "output_type": "stream",
     "text": [
      "Sum is: 30\n"
     ]
    }
   ],
   "source": [
    "sum(10,20)"
   ]
  },
  {
   "cell_type": "code",
   "execution_count": 41,
   "id": "64a0993c",
   "metadata": {},
   "outputs": [
    {
     "ename": "TypeError",
     "evalue": "sum() takes 2 positional arguments but 3 were given",
     "output_type": "error",
     "traceback": [
      "\u001b[1;31m---------------------------------------------------------------------------\u001b[0m",
      "\u001b[1;31mTypeError\u001b[0m                                 Traceback (most recent call last)",
      "\u001b[1;32m<ipython-input-41-e7ab4573c74f>\u001b[0m in \u001b[0;36m<module>\u001b[1;34m\u001b[0m\n\u001b[1;32m----> 1\u001b[1;33m \u001b[0msum\u001b[0m\u001b[1;33m(\u001b[0m\u001b[1;36m10\u001b[0m\u001b[1;33m,\u001b[0m\u001b[1;36m20\u001b[0m\u001b[1;33m,\u001b[0m\u001b[1;36m30\u001b[0m\u001b[1;33m)\u001b[0m\u001b[1;33m\u001b[0m\u001b[1;33m\u001b[0m\u001b[0m\n\u001b[0m",
      "\u001b[1;31mTypeError\u001b[0m: sum() takes 2 positional arguments but 3 were given"
     ]
    }
   ],
   "source": [
    "sum(10,20,30)"
   ]
  },
  {
   "cell_type": "code",
   "execution_count": 42,
   "id": "8f56253d",
   "metadata": {},
   "outputs": [
    {
     "ename": "TypeError",
     "evalue": "sum() missing 1 required positional argument: 'b'",
     "output_type": "error",
     "traceback": [
      "\u001b[1;31m---------------------------------------------------------------------------\u001b[0m",
      "\u001b[1;31mTypeError\u001b[0m                                 Traceback (most recent call last)",
      "\u001b[1;32m<ipython-input-42-e86a74b26fb4>\u001b[0m in \u001b[0;36m<module>\u001b[1;34m\u001b[0m\n\u001b[1;32m----> 1\u001b[1;33m \u001b[0msum\u001b[0m\u001b[1;33m(\u001b[0m\u001b[1;36m10\u001b[0m\u001b[1;33m)\u001b[0m\u001b[1;33m\u001b[0m\u001b[1;33m\u001b[0m\u001b[0m\n\u001b[0m",
      "\u001b[1;31mTypeError\u001b[0m: sum() missing 1 required positional argument: 'b'"
     ]
    }
   ],
   "source": [
    "sum(10)"
   ]
  },
  {
   "cell_type": "code",
   "execution_count": 44,
   "id": "998428b3",
   "metadata": {},
   "outputs": [],
   "source": [
    "#example for variable length of arguments\n",
    "def sum(*n):\n",
    "    total=0\n",
    "    for i in n:\n",
    "        total=total+i\n",
    "    print(\"sum is :\",total)\n"
   ]
  },
  {
   "cell_type": "code",
   "execution_count": null,
   "id": "dfd12e71",
   "metadata": {},
   "outputs": [],
   "source": []
  },
  {
   "cell_type": "code",
   "execution_count": 45,
   "id": "c9e2e011",
   "metadata": {},
   "outputs": [
    {
     "name": "stdout",
     "output_type": "stream",
     "text": [
      "sum is : 10\n"
     ]
    }
   ],
   "source": [
    "sum(10)"
   ]
  },
  {
   "cell_type": "code",
   "execution_count": 46,
   "id": "239e4561",
   "metadata": {},
   "outputs": [
    {
     "name": "stdout",
     "output_type": "stream",
     "text": [
      "sum is : 0\n"
     ]
    }
   ],
   "source": [
    "sum()"
   ]
  },
  {
   "cell_type": "code",
   "execution_count": 47,
   "id": "0718145f",
   "metadata": {},
   "outputs": [
    {
     "name": "stdout",
     "output_type": "stream",
     "text": [
      "sum is : 150\n"
     ]
    }
   ],
   "source": [
    "sum(10,20,30,40,50)"
   ]
  },
  {
   "cell_type": "code",
   "execution_count": 49,
   "id": "b6487aae",
   "metadata": {},
   "outputs": [
    {
     "name": "stdout",
     "output_type": "stream",
     "text": [
      "sum is : 145\n"
     ]
    }
   ],
   "source": [
    "sum(1,2,3,4,5,5,6,7,7,8,8,9,80)"
   ]
  }
 ],
 "metadata": {
  "kernelspec": {
   "display_name": "Python 3",
   "language": "python",
   "name": "python3"
  },
  "language_info": {
   "codemirror_mode": {
    "name": "ipython",
    "version": 3
   },
   "file_extension": ".py",
   "mimetype": "text/x-python",
   "name": "python",
   "nbconvert_exporter": "python",
   "pygments_lexer": "ipython3",
   "version": "3.8.8"
  }
 },
 "nbformat": 4,
 "nbformat_minor": 5
}
